{
  "nbformat": 4,
  "nbformat_minor": 0,
  "metadata": {
    "colab": {
      "name": "practice",
      "version": "0.3.2",
      "provenance": [],
      "collapsed_sections": []
    },
    "kernelspec": {
      "name": "python3",
      "display_name": "Python 3"
    }
  },
  "cells": [
    {
      "cell_type": "markdown",
      "metadata": {
        "id": "mh_1X5DD_MHF",
        "colab_type": "text"
      },
      "source": [
        "#复制、解压缩数据和标签"
      ]
    },
    {
      "cell_type": "code",
      "metadata": {
        "id": "w_V1BsnT_FJt",
        "colab_type": "code",
        "colab": {}
      },
      "source": [
        "#从My Drive 中复制文件\n",
        "import shutil"
      ],
      "execution_count": 0,
      "outputs": []
    },
    {
      "cell_type": "code",
      "metadata": {
        "id": "7KtwoPq2_OI2",
        "colab_type": "code",
        "colab": {
          "base_uri": "https://localhost:8080/",
          "height": 34
        },
        "outputId": "e740db57-3628-419a-d8e1-a863f6804e8a"
      },
      "source": [
        "#本地运行时忽略\n",
        "from google.colab import drive\n",
        "drive.mount('/content/drive')"
      ],
      "execution_count": 2,
      "outputs": [
        {
          "output_type": "stream",
          "text": [
            "Drive already mounted at /content/drive; to attempt to forcibly remount, call drive.mount(\"/content/drive\", force_remount=True).\n"
          ],
          "name": "stdout"
        }
      ]
    },
    {
      "cell_type": "code",
      "metadata": {
        "id": "ex9cOSnSA1dU",
        "colab_type": "code",
        "colab": {
          "base_uri": "https://localhost:8080/",
          "height": 34
        },
        "outputId": "943c3417-0ef9-4d01-e906-c3e82937aac2"
      },
      "source": [
        "#本地运行时忽略 否则去`drive/My Drive/Colab Notebooks/Data/ISIC2018_Task3_Training_*.zip` to /path/to/data\n",
        "shutil.copy2(\"drive/My Drive/Colab Notebooks/Data/ISIC2018_Task3_Training_GroundTruth.zip\", \"./\")\n",
        "shutil.copy2(\"drive/My Drive/Colab Notebooks/Data/ISIC2018_Task3_Training_Input.zip\", \"./\")"
      ],
      "execution_count": 3,
      "outputs": [
        {
          "output_type": "execute_result",
          "data": {
            "text/plain": [
              "'./ISIC2018_Task3_Training_Input.zip'"
            ]
          },
          "metadata": {
            "tags": []
          },
          "execution_count": 3
        }
      ]
    },
    {
      "cell_type": "code",
      "metadata": {
        "id": "yqR0P4cNCepb",
        "colab_type": "code",
        "colab": {}
      },
      "source": [
        "!unzip -q ISIC2018_Task3_Training_GroundTruth.zip"
      ],
      "execution_count": 0,
      "outputs": []
    },
    {
      "cell_type": "code",
      "metadata": {
        "id": "eEw9uS38tuCx",
        "colab_type": "code",
        "colab": {}
      },
      "source": [
        "!unzip -q ISIC2018_Task3_Training_Input.zip"
      ],
      "execution_count": 0,
      "outputs": []
    },
    {
      "cell_type": "markdown",
      "metadata": {
        "id": "zPOsh-IxuGMN",
        "colab_type": "text"
      },
      "source": [
        "#归因"
      ]
    },
    {
      "cell_type": "code",
      "metadata": {
        "id": "FQHbLHDcuS51",
        "colab_type": "code",
        "colab": {
          "base_uri": "https://localhost:8080/",
          "height": 173
        },
        "outputId": "b7b9902f-3fc6-4d15-f8d5-3250ae3e3b61"
      },
      "source": [
        "print(open(\"ISIC2018_Task3_Training_GroundTruth/ATTRIBUTION.txt\").read())"
      ],
      "execution_count": 6,
      "outputs": [
        {
          "output_type": "stream",
          "text": [
            "ISIC-2018 Challenge: Task 3: Training Ground Truth (HAM10000 Dataset: https://arxiv.org/abs/1803.10417 ) (c) by ViDIR Group, Department of Dermatology, Medical University of Vienna\n",
            "\n",
            "ISIC-2018 Challenge: Task 3: Training Ground Truth (HAM10000 Dataset: https://arxiv.org/abs/1803.10417 ) is licensed under a\n",
            "Creative Commons Attribution-NonCommercial 4.0 International License.\n",
            "\n",
            "You should have received a copy of the license along with this\n",
            "work. If not, see <http://creativecommons.org/licenses/by-nc/4.0/>.\n",
            "\n"
          ],
          "name": "stdout"
        }
      ]
    },
    {
      "cell_type": "markdown",
      "metadata": {
        "id": "k8SANq7yu92E",
        "colab_type": "text"
      },
      "source": [
        "#使标签/数据FAST.AI准备就绪"
      ]
    },
    {
      "cell_type": "code",
      "metadata": {
        "id": "jsMME90HvGJG",
        "colab_type": "code",
        "colab": {}
      },
      "source": [
        "import os\n",
        "import math\n",
        "import pandas as pd\n",
        "import numpy as np"
      ],
      "execution_count": 0,
      "outputs": []
    },
    {
      "cell_type": "code",
      "metadata": {
        "id": "3DuChMQivnHx",
        "colab_type": "code",
        "colab": {}
      },
      "source": [
        "np.random.seed(42)"
      ],
      "execution_count": 0,
      "outputs": []
    },
    {
      "cell_type": "code",
      "metadata": {
        "id": "-TwO5hwzvsNj",
        "colab_type": "code",
        "colab": {}
      },
      "source": [
        "df=pd.read_csv(\"ISIC2018_Task3_Training_GroundTruth/ISIC2018_Task3_Training_GroundTruth.csv\")"
      ],
      "execution_count": 0,
      "outputs": []
    },
    {
      "cell_type": "code",
      "metadata": {
        "id": "g0NKjWoAv8kY",
        "colab_type": "code",
        "colab": {
          "base_uri": "https://localhost:8080/",
          "height": 136
        },
        "outputId": "840ec979-078f-48f2-f19f-166f37367874"
      },
      "source": [
        "#统计六种黑色素瘤疾病所占比例\n",
        "for col in df.columns:\n",
        "  if col !=\"image\":\n",
        "    s=df[col].sum()\n",
        "    c=df[col].count()\n",
        "    print(\"Column:{}\\t Count:{}\\t Percentage:{}\\t\".format(col,s,round((s/c)*100,2)))\n",
        " "
      ],
      "execution_count": 11,
      "outputs": [
        {
          "output_type": "stream",
          "text": [
            "Column:MEL\t Count:1113.0\t Percentage:11.11\t\n",
            "Column:NV\t Count:6705.0\t Percentage:66.95\t\n",
            "Column:BCC\t Count:514.0\t Percentage:5.13\t\n",
            "Column:AKIEC\t Count:327.0\t Percentage:3.27\t\n",
            "Column:BKL\t Count:1099.0\t Percentage:10.97\t\n",
            "Column:DF\t Count:115.0\t Percentage:1.15\t\n",
            "Column:VASC\t Count:142.0\t Percentage:1.42\t\n"
          ],
          "name": "stdout"
        }
      ]
    },
    {
      "cell_type": "code",
      "metadata": {
        "id": "Y4V7m9gDf3ZH",
        "colab_type": "code",
        "colab": {}
      },
      "source": [
        "#图像类别位于各类 并创建一个新的列名叫class 包含数据0-6\n",
        "df[\"class\"]=df.drop(\"image\",axis=1).apply(lambda x:x.to_numpy().argmax(),axis=1)"
      ],
      "execution_count": 0,
      "outputs": []
    },
    {
      "cell_type": "code",
      "metadata": {
        "id": "fA573JvDkZyJ",
        "colab_type": "code",
        "colab": {
          "base_uri": "https://localhost:8080/",
          "height": 34
        },
        "outputId": "fdfd7485-65da-45f3-e57e-63c7c0814ad0"
      },
      "source": [
        "#每个黑色素瘤在 class 中对应的值\n",
        "a=list(df.columns)\n",
        "for i in [\"image\",\"class\"]:\n",
        "  a.remove(i)\n",
        "a=dict(zip(a,range(len(a))))\n",
        "print(a)"
      ],
      "execution_count": 14,
      "outputs": [
        {
          "output_type": "stream",
          "text": [
            "{'MEL': 0, 'NV': 1, 'BCC': 2, 'AKIEC': 3, 'BKL': 4, 'DF': 5, 'VASC': 6}\n"
          ],
          "name": "stdout"
        }
      ]
    },
    {
      "cell_type": "code",
      "metadata": {
        "id": "IlY4q-QOmMm7",
        "colab_type": "code",
        "colab": {}
      },
      "source": [
        "df.drop(a.keys(),axis=1,inplace=True)"
      ],
      "execution_count": 0,
      "outputs": []
    },
    {
      "cell_type": "code",
      "metadata": {
        "id": "qEd8DQ81m4B9",
        "colab_type": "code",
        "colab": {}
      },
      "source": [
        "df.to_csv(\"isic_labels.csv\",index=False)"
      ],
      "execution_count": 0,
      "outputs": []
    },
    {
      "cell_type": "markdown",
      "metadata": {
        "id": "Hpt8azJonIFj",
        "colab_type": "text"
      },
      "source": [
        "#提取验证数据集"
      ]
    },
    {
      "cell_type": "code",
      "metadata": {
        "id": "SYM-6OLlnRMK",
        "colab_type": "code",
        "colab": {}
      },
      "source": [
        "test_idx=[]\n",
        "for c in df[\"class\"].unique():\n",
        "  #获取特定类的所有图像名称\n",
        "  temp=df[df['class'].apply(lambda x:True if x == c else False)]\n",
        "  #从每个类别提取10%的图片\n",
        "  test_idx+=temp.sample(math.floor(temp.shape[0]/10)).index.to_list()\n",
        "  "
      ],
      "execution_count": 0,
      "outputs": []
    },
    {
      "cell_type": "code",
      "metadata": {
        "id": "5lXv6tXZobXy",
        "colab_type": "code",
        "colab": {}
      },
      "source": [
        "#创建一个数据测试帧\n",
        "test_df=df.iloc[test_idx].reset_index(drop=True)"
      ],
      "execution_count": 0,
      "outputs": []
    },
    {
      "cell_type": "code",
      "metadata": {
        "id": "3L-kBovmpnbJ",
        "colab_type": "code",
        "colab": {}
      },
      "source": [
        "#创建一个数据训练帧\n",
        "train_df=df.drop(labels=test_idx).reset_index(drop=True)"
      ],
      "execution_count": 0,
      "outputs": []
    },
    {
      "cell_type": "code",
      "metadata": {
        "id": "aawz_f78qAA2",
        "colab_type": "code",
        "colab": {}
      },
      "source": [
        "train_df.to_csv(\"isic_train_labels.csv\",index=False)\n",
        "test_df.to_csv(\"isic_test_labels.csv\",index=False)"
      ],
      "execution_count": 0,
      "outputs": []
    },
    {
      "cell_type": "code",
      "metadata": {
        "id": "S6XbCv78qk2p",
        "colab_type": "code",
        "colab": {}
      },
      "source": [
        ""
      ],
      "execution_count": 0,
      "outputs": []
    }
  ]
}